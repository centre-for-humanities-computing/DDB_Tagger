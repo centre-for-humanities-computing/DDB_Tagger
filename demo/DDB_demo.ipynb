{
 "cells": [
  {
   "cell_type": "markdown",
   "metadata": {},
   "source": [
    "## DDB-Tagger Usage Example"
   ]
  },
  {
   "cell_type": "markdown",
   "metadata": {},
   "source": [
    "---"
   ]
  },
  {
   "cell_type": "markdown",
   "metadata": {},
   "source": [
    "This notebooks provides examples of how to use the DDB Tagger inside a Jupyter notebook. Inside a notebook, the tagger can be used to (1) tag a string of text input or (2) all `.txt` files in a directory. Note, that when using the tagger to (1) tag a string of text, a dataframe with the result is returned and no output is automatically saved. This also means that no information about the disambiguation process is returned/saved. When using the tagger to (2) tag files in a directory, all output is saved in the defined output directory (note, that the output directory should be created beforehand). This output contains the results of the tagger and information about the disambiguation process for each file. "
   ]
  },
  {
   "cell_type": "markdown",
   "metadata": {},
   "source": [
    "### 0 Loading Tagger \n",
    "When loading the tagger, the following parameters can be defined:\n",
    "- `dict` (str, optional): Path to semantic dictionary. Defaults to \"dict/dict.pkl\".\n",
    "- `da_model` (str, optional): Danish Language Model to use, \"spacy\" or \"dacy\". Defaults to \"spacy\"."
   ]
  },
  {
   "cell_type": "code",
   "execution_count": 12,
   "metadata": {},
   "outputs": [],
   "source": [
    "# Load Tagger\n",
    "from src.DDB_tagger import DDB_tagger\n",
    "Tagger = DDB_tagger(da_model=\"spacy\")"
   ]
  },
  {
   "cell_type": "markdown",
   "metadata": {},
   "source": [
    "### 1 Tagging A String of Text Input"
   ]
  },
  {
   "cell_type": "markdown",
   "metadata": {},
   "source": [
    "A string of text can be tagged by using the `tag_text` function. When calling the function, the following parameters can be defined:\n",
    "- `input` (str): String of input text or path to input file. \n",
    "- `input_file` (bool, optional): Defines whether input is path (True) to input file or string of text (False). Defaults to False.\n",
    "- `only_top3_results` (bool, optional): Defines whether only the top3 tags or all should be in the results. Defaults to True.\n",
    "- `only_tagged_results` (bool, optional): Defines whether results should only contain tags (True), or also scores (False). Defaults to False."
   ]
  },
  {
   "cell_type": "code",
   "execution_count": 13,
   "metadata": {},
   "outputs": [
    {
     "data": {
      "text/plain": [
       "'Da demonstrationerne mod politivold og racisme eksploderede overalt i USA først på sommeren, greb Donald Trump straks chancen for at gøre præsidentvalget til et spørgsmål om lov og orden. Siden har han tordnet mod demokratiske borgmestre i uroplagede byer som Chicago, Portland og Seattle – hvis han da ikke bare har tweetet ordene ’LOV OG ORDEN’ med versaler.\\n\\nDesværre for Trump har strategien ikke virket. Hans demokratiske modkandidat Joe Biden fører stadig solidt i meningsmålingerne. Trumps republikanske kernevælgere har godt nok taget imod lov og orden-budskabet – i en grad, så hardcore Trump-tilhængere går til modangreb mod demonstranter i gaderne. Men flest amerikanere svarer rent faktisk i undersøgelser, at de mener, Joe Biden er bedre til at skabe lov og orden end Trump. I en måling i det politiske medie The Hill viser 54 procent af vælgerne for eksempel mest tillid til Biden i spørgsmålet.\\n\\nJoe Biden fører i øjeblikket over Donald Trump med cirka 7 procentpoint i et vægtet gennemsnit af de nationale meningsmålinger, udregnet af det statistiske medie Fivethirtyeight.\\nVis mere\\n\\nPå den baggrund er det måske ikke så underligt, at Trump-kampagnen nu, med små 50 dage til præsidentvalget, er i gang med at skifte hovedfokus.\\n\\n»Det er et fokus på økonomien som det definerende emne i valgkampen«, siger en medarbejder fra Trumps valgkampagne til Fox News og Reuters.\\n\\nTrump-lejren har derfor investeret små 65 millioner kroner ekstra i nye amerikanske tv-reklamer, som fra i dag tirsdag skal hamre budskabet fast. I weekenden besøgte Trump også Nevada – en stat, der ikke har været et brændpunkt for raceuroligheder eller demonstrationer, men som til gengæld er hårdest ramt i hele USA af arbejdsløshed på grund af coronakrisen. Her slog Trump på at genrejse økonomien.\\n\\n»Jeg går efter at blive genvalgt for at for at genoprette den fantastiske velstand, vi har oplevet«, sagde Trump blandt andet ved sit vælgermøde i Las Vegas.'"
      ]
     },
     "execution_count": 13,
     "metadata": {},
     "output_type": "execute_result"
    }
   ],
   "source": [
    "# Define path to file\n",
    "file = \"in/2020-09-15.politiken.txt\"\n",
    "\n",
    "# Read in file to save as string\n",
    "with open(file, 'r') as f:\n",
    "    text = f.read()\n",
    "    f.close()\n",
    "\n",
    "# Print text \n",
    "text"
   ]
  },
  {
   "cell_type": "code",
   "execution_count": 3,
   "metadata": {},
   "outputs": [
    {
     "data": {
      "text/html": [
       "<div>\n",
       "<style scoped>\n",
       "    .dataframe tbody tr th:only-of-type {\n",
       "        vertical-align: middle;\n",
       "    }\n",
       "\n",
       "    .dataframe tbody tr th {\n",
       "        vertical-align: top;\n",
       "    }\n",
       "\n",
       "    .dataframe thead th {\n",
       "        text-align: right;\n",
       "    }\n",
       "</style>\n",
       "<table border=\"1\" class=\"dataframe\">\n",
       "  <thead>\n",
       "    <tr style=\"text-align: right;\">\n",
       "      <th></th>\n",
       "      <th>ORIGINAL_IDX</th>\n",
       "      <th>TOKEN</th>\n",
       "      <th>POS</th>\n",
       "      <th>DDB1</th>\n",
       "      <th>DDB2</th>\n",
       "      <th>DDB3</th>\n",
       "    </tr>\n",
       "  </thead>\n",
       "  <tbody>\n",
       "    <tr>\n",
       "      <th>0</th>\n",
       "      <td>0</td>\n",
       "      <td>Da</td>\n",
       "      <td>KONJ</td>\n",
       "      <td>11|013|Begrundelse</td>\n",
       "      <td>06|017|Straks</td>\n",
       "      <td>-</td>\n",
       "    </tr>\n",
       "    <tr>\n",
       "      <th>1</th>\n",
       "      <td>1</td>\n",
       "      <td>demonstrationerne</td>\n",
       "      <td>NOUN</td>\n",
       "      <td>18|017|Protest, oprør</td>\n",
       "      <td>11|019|Mening, holdning</td>\n",
       "      <td>09|061|Hjælp</td>\n",
       "    </tr>\n",
       "    <tr>\n",
       "      <th>2</th>\n",
       "      <td>2</td>\n",
       "      <td>mod</td>\n",
       "      <td>ADP</td>\n",
       "      <td>08|023|Styre mod, retning</td>\n",
       "      <td>05|024|Modsætning</td>\n",
       "      <td>15|039|Modstand</td>\n",
       "    </tr>\n",
       "    <tr>\n",
       "      <th>3</th>\n",
       "      <td>3</td>\n",
       "      <td>politivold</td>\n",
       "      <td>NOUN</td>\n",
       "      <td>21|025|Politi</td>\n",
       "      <td>-</td>\n",
       "      <td>-</td>\n",
       "    </tr>\n",
       "    <tr>\n",
       "      <th>4</th>\n",
       "      <td>4</td>\n",
       "      <td>og</td>\n",
       "      <td>KONJ</td>\n",
       "      <td>04|028|Tilføje</td>\n",
       "      <td>-</td>\n",
       "      <td>-</td>\n",
       "    </tr>\n",
       "  </tbody>\n",
       "</table>\n",
       "</div>"
      ],
      "text/plain": [
       "   ORIGINAL_IDX              TOKEN   POS                       DDB1  \\\n",
       "0             0                 Da  KONJ         11|013|Begrundelse   \n",
       "1             1  demonstrationerne  NOUN      18|017|Protest, oprør   \n",
       "2             2                mod   ADP  08|023|Styre mod, retning   \n",
       "3             3         politivold  NOUN              21|025|Politi   \n",
       "4             4                 og  KONJ             04|028|Tilføje   \n",
       "\n",
       "                      DDB2             DDB3  \n",
       "0            06|017|Straks                -  \n",
       "1  11|019|Mening, holdning     09|061|Hjælp  \n",
       "2        05|024|Modsætning  15|039|Modstand  \n",
       "3                        -                -  \n",
       "4                        -                -  "
      ]
     },
     "execution_count": 3,
     "metadata": {},
     "output_type": "execute_result"
    }
   ],
   "source": [
    "# Use tagger to get only top3 and only tags, returns dataframe with results\n",
    "output = Tagger.tag_text(input=text, input_file=False, only_top3_results=True, only_tagged_results=True)\n",
    "output.head()"
   ]
  },
  {
   "cell_type": "code",
   "execution_count": 4,
   "metadata": {},
   "outputs": [
    {
     "data": {
      "text/html": [
       "<div>\n",
       "<style scoped>\n",
       "    .dataframe tbody tr th:only-of-type {\n",
       "        vertical-align: middle;\n",
       "    }\n",
       "\n",
       "    .dataframe tbody tr th {\n",
       "        vertical-align: top;\n",
       "    }\n",
       "\n",
       "    .dataframe thead th {\n",
       "        text-align: right;\n",
       "    }\n",
       "</style>\n",
       "<table border=\"1\" class=\"dataframe\">\n",
       "  <thead>\n",
       "    <tr style=\"text-align: right;\">\n",
       "      <th></th>\n",
       "      <th>ORIGINAL_IDX</th>\n",
       "      <th>TOKEN</th>\n",
       "      <th>POS</th>\n",
       "      <th>DDB1</th>\n",
       "      <th>DDB2</th>\n",
       "      <th>DDB3</th>\n",
       "      <th>DDB4+</th>\n",
       "    </tr>\n",
       "  </thead>\n",
       "  <tbody>\n",
       "    <tr>\n",
       "      <th>0</th>\n",
       "      <td>0</td>\n",
       "      <td>Da</td>\n",
       "      <td>KONJ</td>\n",
       "      <td>(11|013|Begrundelse, 0.9999725591350639)</td>\n",
       "      <td>(06|017|Straks, 1.0)</td>\n",
       "      <td>-</td>\n",
       "      <td>-</td>\n",
       "    </tr>\n",
       "    <tr>\n",
       "      <th>1</th>\n",
       "      <td>1</td>\n",
       "      <td>demonstrationerne</td>\n",
       "      <td>NOUN</td>\n",
       "      <td>(18|017|Protest, oprør, 0.9999722553616514)</td>\n",
       "      <td>(11|019|Mening, holdning, 0.9999725598880443)</td>\n",
       "      <td>(09|061|Hjælp, 0.99997933500031)</td>\n",
       "      <td>-</td>\n",
       "    </tr>\n",
       "    <tr>\n",
       "      <th>2</th>\n",
       "      <td>2</td>\n",
       "      <td>mod</td>\n",
       "      <td>ADP</td>\n",
       "      <td>(08|023|Styre mod, retning, 0.999949847033452)</td>\n",
       "      <td>(05|024|Modsætning, 0.9999509395084138)</td>\n",
       "      <td>(15|039|Modstand, 0.9999791818465702)</td>\n",
       "      <td>[(09|062|Ombytte, 0.9999793354273434), (03|007...</td>\n",
       "    </tr>\n",
       "    <tr>\n",
       "      <th>3</th>\n",
       "      <td>3</td>\n",
       "      <td>politivold</td>\n",
       "      <td>NOUN</td>\n",
       "      <td>(21|025|Politi, 1.0)</td>\n",
       "      <td>-</td>\n",
       "      <td>-</td>\n",
       "      <td>-</td>\n",
       "    </tr>\n",
       "    <tr>\n",
       "      <th>4</th>\n",
       "      <td>4</td>\n",
       "      <td>og</td>\n",
       "      <td>KONJ</td>\n",
       "      <td>(04|028|Tilføje, 0.9999154155212518)</td>\n",
       "      <td>-</td>\n",
       "      <td>-</td>\n",
       "      <td>-</td>\n",
       "    </tr>\n",
       "  </tbody>\n",
       "</table>\n",
       "</div>"
      ],
      "text/plain": [
       "   ORIGINAL_IDX              TOKEN   POS  \\\n",
       "0             0                 Da  KONJ   \n",
       "1             1  demonstrationerne  NOUN   \n",
       "2             2                mod   ADP   \n",
       "3             3         politivold  NOUN   \n",
       "4             4                 og  KONJ   \n",
       "\n",
       "                                             DDB1  \\\n",
       "0        (11|013|Begrundelse, 0.9999725591350639)   \n",
       "1     (18|017|Protest, oprør, 0.9999722553616514)   \n",
       "2  (08|023|Styre mod, retning, 0.999949847033452)   \n",
       "3                            (21|025|Politi, 1.0)   \n",
       "4            (04|028|Tilføje, 0.9999154155212518)   \n",
       "\n",
       "                                            DDB2  \\\n",
       "0                           (06|017|Straks, 1.0)   \n",
       "1  (11|019|Mening, holdning, 0.9999725598880443)   \n",
       "2        (05|024|Modsætning, 0.9999509395084138)   \n",
       "3                                              -   \n",
       "4                                              -   \n",
       "\n",
       "                                    DDB3  \\\n",
       "0                                      -   \n",
       "1       (09|061|Hjælp, 0.99997933500031)   \n",
       "2  (15|039|Modstand, 0.9999791818465702)   \n",
       "3                                      -   \n",
       "4                                      -   \n",
       "\n",
       "                                               DDB4+  \n",
       "0                                                  -  \n",
       "1                                                  -  \n",
       "2  [(09|062|Ombytte, 0.9999793354273434), (03|007...  \n",
       "3                                                  -  \n",
       "4                                                  -  "
      ]
     },
     "execution_count": 4,
     "metadata": {},
     "output_type": "execute_result"
    }
   ],
   "source": [
    "# Use tagger to get all tags and scores, returns dataframe with results\n",
    "output = Tagger.tag_text(input=text, input_file=False, only_top3_results=False, only_tagged_results=False)\n",
    "output.head()"
   ]
  },
  {
   "cell_type": "markdown",
   "metadata": {},
   "source": [
    "### 2 Tagging All Files in A Directory"
   ]
  },
  {
   "cell_type": "markdown",
   "metadata": {},
   "source": [
    "Files in a directory can be tagged by using the `tag_directory` function. When calling the function, the following parameters can be defined:\n",
    "- `input_directory` (str, optional): Input directory containing .txt files. Defaults to \"in/\".\n",
    "- `output_directory` (str, optional): Output directory to save results. Defaults to \"out/\".\n",
    "- `only_top3_results` (bool, optional): Defines whether only the top3 tags or all should be in the results. Defaults to True.\n",
    "- `only_tagged_results` (bool, optional): Defines whether results should only contain tags (True), or also scores (False). Defaults to False."
   ]
  },
  {
   "cell_type": "code",
   "execution_count": 5,
   "metadata": {},
   "outputs": [
    {
     "name": "stdout",
     "output_type": "stream",
     "text": [
      "[INFO] Found 1 files, starting tagging...\n"
     ]
    },
    {
     "name": "stderr",
     "output_type": "stream",
     "text": [
      "100%|██████████| 1/1 [00:03<00:00,  3.29s/it]"
     ]
    },
    {
     "name": "stdout",
     "output_type": "stream",
     "text": [
      "[INFO] ...done! Results saved in /Users/nicoledwenger/Documents/CHCAA/DDB_Tagger/src/../out/scores_tagged_2020-09-15.politiken.csv\n",
      "[INFO] 1 files tagged in 3.37 seconds!\n",
      "\n",
      " ================== \n",
      "\n"
     ]
    },
    {
     "name": "stderr",
     "output_type": "stream",
     "text": [
      "\n"
     ]
    }
   ],
   "source": [
    "# Tagging all files in a directory, with output saved in output directory\n",
    "input_directory = \"in/\"\n",
    "Tagger.tag_directory(input_directory=\"in/\", output_directory=\"out/\", only_tagged_results=False)"
   ]
  }
 ],
 "metadata": {
  "interpreter": {
   "hash": "f583ef81dc38fab03fe8b79b65b3ec4feedd4b61d4894f7ca99dce04de81c351"
  },
  "kernelspec": {
   "display_name": "Python 3.9.4 64-bit ('venv_dbbtagger': venv)",
   "language": "python",
   "name": "python3"
  },
  "language_info": {
   "codemirror_mode": {
    "name": "ipython",
    "version": 3
   },
   "file_extension": ".py",
   "mimetype": "text/x-python",
   "name": "python",
   "nbconvert_exporter": "python",
   "pygments_lexer": "ipython3",
   "version": "3.9.4"
  },
  "orig_nbformat": 4
 },
 "nbformat": 4,
 "nbformat_minor": 2
}
