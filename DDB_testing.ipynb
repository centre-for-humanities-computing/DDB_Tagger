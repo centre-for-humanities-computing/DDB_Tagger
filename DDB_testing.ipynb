{
 "cells": [
  {
   "cell_type": "markdown",
   "metadata": {},
   "source": [
    "## Testing DDB Tagger in Notebook"
   ]
  },
  {
   "cell_type": "code",
   "execution_count": 6,
   "metadata": {},
   "outputs": [
    {
     "name": "stdout",
     "output_type": "stream",
     "text": [
      "Collecting da-dacy-medium-trf==any\n",
      "  Using cached https://huggingface.co/chcaa/da_dacy_medium_trf/resolve/main/da_dacy_medium_trf-any-py3-none-any.whl (417.8 MB)\n",
      "Installing collected packages: da-dacy-medium-trf\n",
      "Successfully installed da-dacy-medium-trf-0.1.0\n"
     ]
    },
    {
     "name": "stderr",
     "output_type": "stream",
     "text": [
      "/Users/nicoledwenger/Documents/CHCAA/DDB_Tagger/venv_test/lib/python3.9/site-packages/spacy/util.py:833: UserWarning: [W095] Model 'da_dacy_medium_trf' (0.1.0) was trained with spaCy v3.1 and may not be 100% compatible with the current version (3.2.1). If you see errors or degraded performance, download a newer compatible model or retrain your custom model with the current spaCy version. For more details and available updates, run: python -m spacy validate\n",
      "  warnings.warn(warn_msg)\n"
     ]
    }
   ],
   "source": [
    "# Load Tagger\n",
    "from src.DDB_tagger import DDB_tagger\n",
    "Tagger = DDB_tagger(da_model=\"dacy\")"
   ]
  },
  {
   "cell_type": "markdown",
   "metadata": {},
   "source": [
    "#### Tagging single string of text"
   ]
  },
  {
   "cell_type": "code",
   "execution_count": 7,
   "metadata": {},
   "outputs": [],
   "source": [
    "# Define path to file\n",
    "file = \"in/2020-09-15.politiken.txt\"\n",
    "\n",
    "# Read in file to save as string\n",
    "with open(file, 'r') as f:\n",
    "    text = f.read() # text = in text\n",
    "    f.close()"
   ]
  },
  {
   "cell_type": "code",
   "execution_count": 10,
   "metadata": {},
   "outputs": [
    {
     "name": "stderr",
     "output_type": "stream",
     "text": [
      "/Users/nicoledwenger/Documents/CHCAA/DDB_Tagger/venv_test/lib/python3.9/site-packages/torch/autocast_mode.py:141: UserWarning: User provided device_type of 'cuda', but CUDA is not available. Disabling\n",
      "  warnings.warn('User provided device_type of \\'cuda\\', but CUDA is not available. Disabling')\n",
      "/Users/nicoledwenger/Documents/CHCAA/DDB_Tagger/venv_test/lib/python3.9/site-packages/spacy/pipeline/attributeruler.py:150: UserWarning: [W036] The component 'matcher' does not have any patterns defined.\n",
      "  matches = self.matcher(doc, allow_missing=True, as_spans=False)\n"
     ]
    }
   ],
   "source": [
    "output = Tagger.tag_text(input=text, input_file=False, only_tagged_results=False)"
   ]
  },
  {
   "cell_type": "code",
   "execution_count": 11,
   "metadata": {},
   "outputs": [
    {
     "data": {
      "text/html": [
       "<div>\n",
       "<style scoped>\n",
       "    .dataframe tbody tr th:only-of-type {\n",
       "        vertical-align: middle;\n",
       "    }\n",
       "\n",
       "    .dataframe tbody tr th {\n",
       "        vertical-align: top;\n",
       "    }\n",
       "\n",
       "    .dataframe thead th {\n",
       "        text-align: right;\n",
       "    }\n",
       "</style>\n",
       "<table border=\"1\" class=\"dataframe\">\n",
       "  <thead>\n",
       "    <tr style=\"text-align: right;\">\n",
       "      <th></th>\n",
       "      <th>INDEX</th>\n",
       "      <th>WORD</th>\n",
       "      <th>POS</th>\n",
       "      <th>DDB1</th>\n",
       "      <th>DDB2</th>\n",
       "      <th>DDB3</th>\n",
       "    </tr>\n",
       "  </thead>\n",
       "  <tbody>\n",
       "    <tr>\n",
       "      <th>0</th>\n",
       "      <td>0</td>\n",
       "      <td>Da</td>\n",
       "      <td>KONJ</td>\n",
       "      <td>(11|013|Begrundelse, 0.9999725591350639)</td>\n",
       "      <td>(06|017|Straks, 1.0)</td>\n",
       "      <td>-</td>\n",
       "    </tr>\n",
       "    <tr>\n",
       "      <th>1</th>\n",
       "      <td>1</td>\n",
       "      <td>demonstrationerne</td>\n",
       "      <td>NOUN</td>\n",
       "      <td>(18|017|Protest, oprør, 0.9999722553616514)</td>\n",
       "      <td>(11|019|Mening, holdning, 0.9999725598880443)</td>\n",
       "      <td>(09|061|Hjælp, 0.99997933500031)</td>\n",
       "    </tr>\n",
       "    <tr>\n",
       "      <th>2</th>\n",
       "      <td>2</td>\n",
       "      <td>mod</td>\n",
       "      <td>ADP</td>\n",
       "      <td>(08|023|Styre mod, retning, 0.999949847033452)</td>\n",
       "      <td>(05|024|Modsætning, 0.9999509395084138)</td>\n",
       "      <td>(15|039|Modstand, 0.9999791818465702)</td>\n",
       "    </tr>\n",
       "    <tr>\n",
       "      <th>3</th>\n",
       "      <td>3</td>\n",
       "      <td>politivold</td>\n",
       "      <td>NOUN</td>\n",
       "      <td>(21|025|Politi, 1.0)</td>\n",
       "      <td>-</td>\n",
       "      <td>-</td>\n",
       "    </tr>\n",
       "    <tr>\n",
       "      <th>4</th>\n",
       "      <td>4</td>\n",
       "      <td>og</td>\n",
       "      <td>KONJ</td>\n",
       "      <td>(04|028|Tilføje, 0.9999154155212518)</td>\n",
       "      <td>-</td>\n",
       "      <td>-</td>\n",
       "    </tr>\n",
       "    <tr>\n",
       "      <th>...</th>\n",
       "      <td>...</td>\n",
       "      <td>...</td>\n",
       "      <td>...</td>\n",
       "      <td>...</td>\n",
       "      <td>...</td>\n",
       "      <td>...</td>\n",
       "    </tr>\n",
       "    <tr>\n",
       "      <th>349</th>\n",
       "      <td>349</td>\n",
       "      <td>vælgermøde</td>\n",
       "      <td>NOUN</td>\n",
       "      <td>(18|009|Valghandling, 0.999972257670754)</td>\n",
       "      <td>-</td>\n",
       "      <td>-</td>\n",
       "    </tr>\n",
       "    <tr>\n",
       "      <th>350</th>\n",
       "      <td>350</td>\n",
       "      <td>i</td>\n",
       "      <td>ADP</td>\n",
       "      <td>(03|002|Beliggenhed, sted, 0.9999258050155809)</td>\n",
       "      <td>(03|003|Tilstedeværelse, 0.9999258050155809)</td>\n",
       "      <td>(06|004|Klokkeslæt, dato, 0.9999668632778845)</td>\n",
       "    </tr>\n",
       "    <tr>\n",
       "      <th>351</th>\n",
       "      <td>351</td>\n",
       "      <td>Las</td>\n",
       "      <td>PROPN</td>\n",
       "      <td>-</td>\n",
       "      <td>-</td>\n",
       "      <td>-</td>\n",
       "    </tr>\n",
       "    <tr>\n",
       "      <th>352</th>\n",
       "      <td>352</td>\n",
       "      <td>Vegas</td>\n",
       "      <td>PROPN</td>\n",
       "      <td>-</td>\n",
       "      <td>-</td>\n",
       "      <td>-</td>\n",
       "    </tr>\n",
       "    <tr>\n",
       "      <th>353</th>\n",
       "      <td>353</td>\n",
       "      <td>.</td>\n",
       "      <td>PUNCT</td>\n",
       "      <td>-</td>\n",
       "      <td>-</td>\n",
       "      <td>-</td>\n",
       "    </tr>\n",
       "  </tbody>\n",
       "</table>\n",
       "<p>354 rows × 6 columns</p>\n",
       "</div>"
      ],
      "text/plain": [
       "     INDEX               WORD    POS  \\\n",
       "0        0                 Da   KONJ   \n",
       "1        1  demonstrationerne   NOUN   \n",
       "2        2                mod    ADP   \n",
       "3        3         politivold   NOUN   \n",
       "4        4                 og   KONJ   \n",
       "..     ...                ...    ...   \n",
       "349    349         vælgermøde   NOUN   \n",
       "350    350                  i    ADP   \n",
       "351    351                Las  PROPN   \n",
       "352    352              Vegas  PROPN   \n",
       "353    353                  .  PUNCT   \n",
       "\n",
       "                                               DDB1  \\\n",
       "0          (11|013|Begrundelse, 0.9999725591350639)   \n",
       "1       (18|017|Protest, oprør, 0.9999722553616514)   \n",
       "2    (08|023|Styre mod, retning, 0.999949847033452)   \n",
       "3                              (21|025|Politi, 1.0)   \n",
       "4              (04|028|Tilføje, 0.9999154155212518)   \n",
       "..                                              ...   \n",
       "349        (18|009|Valghandling, 0.999972257670754)   \n",
       "350  (03|002|Beliggenhed, sted, 0.9999258050155809)   \n",
       "351                                               -   \n",
       "352                                               -   \n",
       "353                                               -   \n",
       "\n",
       "                                              DDB2  \\\n",
       "0                             (06|017|Straks, 1.0)   \n",
       "1    (11|019|Mening, holdning, 0.9999725598880443)   \n",
       "2          (05|024|Modsætning, 0.9999509395084138)   \n",
       "3                                                -   \n",
       "4                                                -   \n",
       "..                                             ...   \n",
       "349                                              -   \n",
       "350   (03|003|Tilstedeværelse, 0.9999258050155809)   \n",
       "351                                              -   \n",
       "352                                              -   \n",
       "353                                              -   \n",
       "\n",
       "                                              DDB3  \n",
       "0                                                -  \n",
       "1                 (09|061|Hjælp, 0.99997933500031)  \n",
       "2            (15|039|Modstand, 0.9999791818465702)  \n",
       "3                                                -  \n",
       "4                                                -  \n",
       "..                                             ...  \n",
       "349                                              -  \n",
       "350  (06|004|Klokkeslæt, dato, 0.9999668632778845)  \n",
       "351                                              -  \n",
       "352                                              -  \n",
       "353                                              -  \n",
       "\n",
       "[354 rows x 6 columns]"
      ]
     },
     "execution_count": 11,
     "metadata": {},
     "output_type": "execute_result"
    }
   ],
   "source": [
    "output"
   ]
  },
  {
   "cell_type": "markdown",
   "metadata": {},
   "source": [
    "#### Tagging directory of files"
   ]
  },
  {
   "cell_type": "code",
   "execution_count": 5,
   "metadata": {},
   "outputs": [
    {
     "name": "stdout",
     "output_type": "stream",
     "text": [
      "[INFO] Found 1 files, starting tagging...\n"
     ]
    },
    {
     "name": "stderr",
     "output_type": "stream",
     "text": [
      "100%|██████████| 1/1 [00:03<00:00,  3.32s/it]"
     ]
    },
    {
     "name": "stdout",
     "output_type": "stream",
     "text": [
      "[INFO] ...done! Results saved in out/\n",
      "[INFO] 1 files tagged in 3.37 seconds!\n",
      "\n",
      " ================== \n",
      "\n"
     ]
    },
    {
     "name": "stderr",
     "output_type": "stream",
     "text": [
      "\n"
     ]
    }
   ],
   "source": [
    "input_directory = \"in/\"\n",
    "Tagger.tag_directory(input_directory=\"in/\", output_directory=\"out/\", only_tagged_results=False)"
   ]
  }
 ],
 "metadata": {
  "interpreter": {
   "hash": "f583ef81dc38fab03fe8b79b65b3ec4feedd4b61d4894f7ca99dce04de81c351"
  },
  "kernelspec": {
   "display_name": "Python 3.9.4 64-bit ('venv_dbbtagger': venv)",
   "language": "python",
   "name": "python3"
  },
  "language_info": {
   "codemirror_mode": {
    "name": "ipython",
    "version": 3
   },
   "file_extension": ".py",
   "mimetype": "text/x-python",
   "name": "python",
   "nbconvert_exporter": "python",
   "pygments_lexer": "ipython3",
   "version": "3.9.4"
  },
  "orig_nbformat": 4
 },
 "nbformat": 4,
 "nbformat_minor": 2
}
